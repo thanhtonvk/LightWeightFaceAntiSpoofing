{
 "cells": [
  {
   "cell_type": "code",
   "execution_count": 11,
   "metadata": {},
   "outputs": [],
   "source": [
    "import pandas as pd\n",
    "import os\n",
    "\n",
    "paths = []\n",
    "labels = []\n",
    "for file_name in os.listdir('Crop_1_0/fake'):\n",
    "    image_path = f'Crop_1_0/fake/{file_name}'\n",
    "    label = 1\n",
    "    paths.append(image_path)\n",
    "    labels.append(label)\n",
    "for file_name in os.listdir('Crop_1_0/real'):\n",
    "    image_path = f'Crop_1_0/real/{file_name}'\n",
    "    label = 0\n",
    "    paths.append(image_path)\n",
    "    labels.append(label)\n",
    "    \n",
    "train_size = int(0.8*len(labels))\n",
    "  \n",
    "    \n",
    "df_train  = pd.DataFrame({'path':paths[:train_size],'label':labels[:train_size]})\n",
    "df_train.to_csv('datasets/train.csv')\n",
    "\n",
    "df_val  = pd.DataFrame({'path':paths[train_size:],'label':labels[train_size:]})\n",
    "df_val.to_csv('datasets/val.csv')"
   ]
  }
 ],
 "metadata": {
  "kernelspec": {
   "display_name": "burma_card_reader",
   "language": "python",
   "name": "python3"
  },
  "language_info": {
   "codemirror_mode": {
    "name": "ipython",
    "version": 3
   },
   "file_extension": ".py",
   "mimetype": "text/x-python",
   "name": "python",
   "nbconvert_exporter": "python",
   "pygments_lexer": "ipython3",
   "version": "3.8.18"
  }
 },
 "nbformat": 4,
 "nbformat_minor": 2
}
